{
 "cells": [
  {
   "cell_type": "markdown",
   "metadata": {},
   "source": [
    "# Particle Filter"
   ]
  },
  {
   "cell_type": "code",
   "execution_count": 1,
   "metadata": {
    "collapsed": true
   },
   "outputs": [],
   "source": [
    "%matplotlib inline"
   ]
  },
  {
   "cell_type": "markdown",
   "metadata": {},
   "source": [
    "## Resampler"
   ]
  },
  {
   "cell_type": "code",
   "execution_count": 2,
   "metadata": {
    "collapsed": true
   },
   "outputs": [],
   "source": [
    "def systematic(W, gamma):\n",
    "    return True"
   ]
  },
  {
   "cell_type": "code",
   "execution_count": 3,
   "metadata": {
    "collapsed": true
   },
   "outputs": [],
   "source": [
    "def ESS(W, gamma):\n",
    "    ESS = 1. / sum([w**2 for w in W])\n",
    "    if ESS < gamma*len(W):\n",
    "        return True\n",
    "    else:\n",
    "        return False"
   ]
  },
  {
   "cell_type": "markdown",
   "metadata": {},
   "source": [
    "## Bootstrap Filter"
   ]
  },
  {
   "cell_type": "code",
   "execution_count": 4,
   "metadata": {
    "collapsed": false
   },
   "outputs": [],
   "source": [
    "import numpy as np\n",
    "from scipy.stats import norm, poisson, truncnorm\n",
    "from numpy.random import multinomial\n",
    "from math import sqrt, exp, log, pi\n",
    "import matplotlib.pyplot as plt\n",
    "import time"
   ]
  },
  {
   "cell_type": "code",
   "execution_count": 5,
   "metadata": {
    "collapsed": false
   },
   "outputs": [],
   "source": [
    "def PF(theta, N, yt, resampler=systematic, gamma=0.4, Verbose=False):\n",
    "    # define parameters from theta\n",
    "    beta = theta[0:2]\n",
    "    rho = theta[2]\n",
    "    delta = theta[3]\n",
    "    T = len(yt)\n",
    "    dt = 1.\n",
    "    \n",
    "    # t=0\n",
    "    X = np.array(norm.rvs(size=N, loc = (beta[0] + float(beta[1])/T),\n",
    "                          scale = (sqrt(delta) / sqrt(1-rho**2))))\n",
    "    logw = poisson.logpmf(yt[0], mu = dt * np.exp(X))\n",
    "    m = np.max(logw)\n",
    "    W = np.exp(logw-m)\n",
    "    logL = log(1./N * sum(W)) + m\n",
    "    W = W/sum(W)\n",
    "    if Verbose==True:\n",
    "        print \"Initialization\", \"\\tLikelihood estimator: \", logL\n",
    "    \n",
    "    # t>0\n",
    "    for t in range(2, T+1):\n",
    "        if t%200 == 0 & Verbose==True:\n",
    "            print \"Iteration: \", t, \"\\tLikelihood estimator: \", logL\n",
    "        X_new = np.empty(N)\n",
    "        if resampler(W, gamma) == True:\n",
    "            for n in range(N):\n",
    "                An = np.where(multinomial(1, W))[0][0]\n",
    "                mu = rho*X[An] + (1-rho)*beta[0] + (t*(1-rho) + rho)/T*beta[1]\n",
    "                X_new[n] = norm.rvs(loc=mu, scale=sqrt(delta))\n",
    "        else:\n",
    "            for n in range(N):\n",
    "                An = n\n",
    "                mu = rho*X[An] + (1-rho)*beta[0] + (t*(1-rho) + rho)/T*beta[1]\n",
    "                X_new[n] = norm.rvs(loc=mu, scale=sqrt(delta))\n",
    "        X = X_new\n",
    "        logw = poisson.logpmf(yt[t-1], mu = dt * np.exp(X))\n",
    "        m = max(logw)\n",
    "        W = np.exp(logw-m)\n",
    "        logL = logL + log(sum(W)) + m - log(N)\n",
    "        W = W/sum(W)\n",
    "    return logL"
   ]
  },
  {
   "cell_type": "markdown",
   "metadata": {},
   "source": [
    "# Simulate data"
   ]
  },
  {
   "cell_type": "code",
   "execution_count": 6,
   "metadata": {
    "collapsed": true
   },
   "outputs": [],
   "source": [
    "def simdata_aug(theta, T):\n",
    "    # define parameters from theta\n",
    "    beta = theta[0:2]\n",
    "    rho = theta[2]\n",
    "    delta = theta[3]\n",
    "    dt = 1.\n",
    "    \n",
    "    # initialization\n",
    "    yt = np.empty(T)\n",
    "    eta = norm.rvs(loc = (beta[0] + float(beta[1])/T), scale = (sqrt(delta) / sqrt(1-rho**2)))\n",
    "    yt[0] = poisson.rvs(dt * exp(eta))\n",
    "    \n",
    "    # t>0\n",
    "    for t in range(2, T+1):\n",
    "        mu = rho*eta + (1-rho)*beta[0] + (t*(1-rho) + rho)/T*beta[1]\n",
    "        eta = norm.rvs(loc = mu, scale = sqrt(delta))\n",
    "        yt[t-1] = poisson.rvs(dt * exp(eta))\n",
    "    return yt"
   ]
  },
  {
   "cell_type": "code",
   "execution_count": 7,
   "metadata": {
    "collapsed": false
   },
   "outputs": [],
   "source": [
    "theta_0 = [1, 0, 0.2, 1]\n",
    "data_0 = simdata_aug(theta_0, 100)\n",
    "theta_1 = [1.5, 3, 0.6, 1.5]\n",
    "data_1 = simdata_aug(theta_1, 100)"
   ]
  },
  {
   "cell_type": "code",
   "execution_count": 8,
   "metadata": {
    "collapsed": false
   },
   "outputs": [
    {
     "data": {
      "text/plain": [
       "<matplotlib.text.Text at 0x7eff2dfaaf90>"
      ]
     },
     "execution_count": 8,
     "metadata": {},
     "output_type": "execute_result"
    },
    {
     "data": {
      "image/png": "[encoded data removed]",
      "text/plain": [
       "<matplotlib.figure.Figure at 0x7eff2dfd60d0>"
      ]
     },
     "metadata": {},
     "output_type": "display_data"
    }
   ],
   "source": [
    "plt.plot(range(1,101), data_0,  'o', c='darkred', alpha=0.8)\n",
    "plt.ylim([-1,25])\n",
    "plt.xlim([-1,105])\n",
    "plt.title('Simulated data')"
   ]
  },
  {
   "cell_type": "markdown",
   "metadata": {},
   "source": [
    "## Test PF"
   ]
  },
  {
   "cell_type": "markdown",
   "metadata": {},
   "source": [
    "### Sampling schemes"
   ]
  },
  {
   "cell_type": "code",
   "execution_count": 9,
   "metadata": {
    "collapsed": false
   },
   "outputs": [
    {
     "name": "stdout",
     "output_type": "stream",
     "text": [
      "0\n",
      "100\n",
      "200\n",
      "300\n",
      "400\n",
      "-264.366298565 4.94814065282\n",
      "-263.045679032 3.92571292512\n",
      "[ 0.24996315  0.18878245]\n"
     ]
    }
   ],
   "source": [
    "Ls_sys = np.empty(500)\n",
    "Ls_ESS = np.empty(500)\n",
    "times = np.empty(shape=(500, 2))\n",
    "for i in range(500):\n",
    "    start = time.time()\n",
    "    Ls_sys[i] = PF(theta_0, 100, data_0)\n",
    "    end = time.time()\n",
    "    times[i, 0] = end-start\n",
    "    \n",
    "    start = time.time()\n",
    "    Ls_ESS[i] = PF(theta_0, 100, data_0, resampler=ESS)\n",
    "    end = time.time()\n",
    "    times[i, 1] = end-start\n",
    "    \n",
    "    if i%100==0:\n",
    "        print i\n",
    "print np.mean(Ls_sys), np.std(Ls_sys)\n",
    "print np.mean(Ls_ESS), np.std(Ls_ESS)\n",
    "print np.mean(times, axis=0)"
   ]
  },
  {
   "cell_type": "markdown",
   "metadata": {},
   "source": [
    "### Number of particles"
   ]
  },
  {
   "cell_type": "code",
   "execution_count": 10,
   "metadata": {
    "collapsed": false
   },
   "outputs": [
    {
     "name": "stdout",
     "output_type": "stream",
     "text": [
      "0\n",
      "5\n",
      "10\n",
      "15\n",
      "20\n",
      "25\n",
      "30\n",
      "35\n",
      "40\n",
      "45\n",
      "-260.269817255 0.714430193034\n",
      "7.33796948433\n"
     ]
    }
   ],
   "source": [
    "Ls_1k = np.empty(50)\n",
    "times_1k = np.empty(50)\n",
    "for i in range(50):\n",
    "    if i%5==0:\n",
    "        print i\n",
    "    start = time.time()\n",
    "    Ls_1k[i] = PF(theta_0, 1000, data_0)\n",
    "    end = time.time()\n",
    "    times_1k[i] = end-start\n",
    "print np.mean(Ls_1k), np.std(Ls_1k)\n",
    "print np.mean(times_1k)"
   ]
  },
  {
   "cell_type": "markdown",
   "metadata": {},
   "source": [
    "### Other parameters"
   ]
  },
  {
   "cell_type": "code",
   "execution_count": 16,
   "metadata": {
    "collapsed": true
   },
   "outputs": [],
   "source": [
    "theta_2 = [0,0,0,0]"
   ]
  },
  {
   "cell_type": "code",
   "execution_count": 12,
   "metadata": {
    "collapsed": false
   },
   "outputs": [
    {
     "name": "stdout",
     "output_type": "stream",
     "text": [
      "0\n",
      "50\n",
      "100\n",
      "150\n",
      "200\n",
      "250\n",
      "300\n",
      "350\n",
      "400\n",
      "450\n"
     ]
    }
   ],
   "source": [
    "Ls_1 = np.empty(500)\n",
    "Ls_2 = np.empty(500)\n",
    "times = np.empty(shape=(500, 2))\n",
    "for i in range(500):\n",
    "    start = time.time()\n",
    "    Ls_1[i] = PF(theta_1, 100, data_0, resampler=ESS)\n",
    "    end = time.time()\n",
    "    times[i, 0] = end-start\n",
    "    \n",
    "    start = time.time()\n",
    "    Ls_2[i] = PF(theta_2, 100, data_0, resampler=ESS)\n",
    "    end = time.time()\n",
    "    times[i, 1] = end-start\n",
    "    \n",
    "    if i%50==0:\n",
    "        print i"
   ]
  },
  {
   "cell_type": "code",
   "execution_count": 15,
   "metadata": {
    "collapsed": false
   },
   "outputs": [
    {
     "name": "stdout",
     "output_type": "stream",
     "text": [
      "-301.836653808 2.10812340986\n",
      "-760.593698079 1.13686837722e-13\n",
      "[ 0.21910377  0.16407303]\n"
     ]
    }
   ],
   "source": [
    "print np.mean(Ls_1), np.std(Ls_1)\n",
    "print np.mean(Ls_2), np.std(Ls_2)\n",
    "print np.mean(times, axis=0)"
   ]
  },
  {
   "cell_type": "markdown",
   "metadata": {},
   "source": [
    "# PMCMC"
   ]
  },
  {
   "cell_type": "code",
   "execution_count": 29,
   "metadata": {
    "collapsed": true
   },
   "outputs": [],
   "source": [
    "class h_norms():\n",
    "    def __init__(self):\n",
    "        pass\n",
    "    \n",
    "    def logpdf(self, theta, param, scale=1.):\n",
    "        logpdfs = np.empty(4)\n",
    "        logpdfs[0:2] = norm.logpdf(theta[0:2], loc=param[0:2], scale=scale)\n",
    "        \n",
    "        leftcut = (-1-param[2])/scale\n",
    "        rightcut = (1-param[2])/scale\n",
    "        logpdfs[2] = truncnorm.logpdf(theta[2], leftcut, rightcut, loc=param[2], scale=scale)\n",
    "        \n",
    "        myclip_a, myclip_b = 0, float(\"inf\")\n",
    "        my_mean = param[3]\n",
    "        my_std = scale\n",
    "        a, b = (myclip_a - my_mean) / my_std, (myclip_b - my_mean) / my_std\n",
    "        logpdfs[3] = truncnorm.logpdf(theta[3], a, b, loc=my_mean, scale=my_std)\n",
    "        \n",
    "        return logpdfs\n",
    "\n",
    "    def rvs(self, param, scale=1.):\n",
    "        new_theta = np.empty(4)\n",
    "        new_theta[0:2] = norm.rvs(size=2, loc=param[0:2], scale=scale)\n",
    "        \n",
    "        leftcut = (-1-param[2])/scale\n",
    "        rightcut = (1-param[2])/scale\n",
    "\n",
    "        new_theta[2] = truncnorm.rvs(leftcut, rightcut, loc=param[2], scale=scale)\n",
    "        \n",
    "        myclip_a,myclip_b = 0,float(\"inf\")\n",
    "        my_mean = param[3]\n",
    "        my_std = scale\n",
    "        a, b = (myclip_a - my_mean) / my_std, (myclip_b - my_mean) / my_std\n",
    "        new_theta[3] = truncnorm.rvs(a, b,loc=my_mean, scale=my_std)\n",
    "        return new_theta"
   ]
  },
  {
   "cell_type": "code",
   "execution_count": 26,
   "metadata": {
    "collapsed": false
   },
   "outputs": [],
   "source": [
    "def pmcmc(n_iter, data, theta0, prop=h_norms(), pf=PF, n_particles=100, Verbose=False):\n",
    "    L = lambda theta: pf(theta, n_particles, data)\n",
    "    h = lambda theta, mean: np.sum(prop.logpdf(theta, mean))\n",
    "    #p = lambda theta: np.prod(prior.pdf(theta))\n",
    "    theta_i = theta0\n",
    "    results = np.empty((n_iter, 4))\n",
    "    \n",
    "    for i in range(n_iter):\n",
    "        if i%50==0 & Verbose==True:\n",
    "            print \"Iteration \", i, theta_i\n",
    "        theta_star = prop.rvs(theta_i)\n",
    "        logr = L(theta_star) + h(theta_i, theta_star) - (\n",
    "            L(theta_i) + h(theta_star, theta_i))\n",
    "        if logr > 0:\n",
    "            results[i,:] = theta_star\n",
    "            theta_i = theta_star\n",
    "        else:\n",
    "            u = np.random.uniform(0,1)\n",
    "            if u < exp(logr):\n",
    "                results[i,:] = theta_star\n",
    "                theta_i = theta_star\n",
    "            else:\n",
    "                results[i,:] = theta_i\n",
    "    return(results)"
   ]
  },
  {
   "cell_type": "markdown",
   "metadata": {},
   "source": [
    "# Running the algorithm and plotting the results"
   ]
  },
  {
   "cell_type": "code",
   "execution_count": 30,
   "metadata": {
    "collapsed": true
   },
   "outputs": [],
   "source": [
    "import pylab"
   ]
  },
  {
   "cell_type": "code",
   "execution_count": 32,
   "metadata": {
    "collapsed": true
   },
   "outputs": [],
   "source": [
    "data = np.load('Samples/ESS/data1_5000badstart_1_1_ESS.npy')"
   ]
  },
  {
   "cell_type": "code",
   "execution_count": 33,
   "metadata": {
    "collapsed": false
   },
   "outputs": [
    {
     "data": {
      "image/png": "[encoded data removed]",
      "text/plain": [
       "<matplotlib.figure.Figure at 0x7eff33def310>"
      ]
     },
     "metadata": {},
     "output_type": "display_data"
    }
   ],
   "source": [
    "pylab.rcParams['figure.figsize'] = (13.0, 10.0)\n",
    "titles = ['beta_0', 'beta_1', 'rho', 'delta']\n",
    "for i in range(4):\n",
    "    bins = np.linspace(data[500:,i].min(), data[500:,i].max(), 15)\n",
    "    plt.subplot(2, 2, 1+i)\n",
    "    plt.title(titles[i])\n",
    "    plt.hist(data[500:,i], bins, alpha=0.5, color='darkred')"
   ]
  }
 ],
 "metadata": {
  "kernelspec": {
   "display_name": "Python 2",
   "language": "python",
   "name": "python2"
  },
  "language_info": {
   "codemirror_mode": {
    "name": "ipython",
    "version": 2
   },
   "file_extension": ".py",
   "mimetype": "text/x-python",
   "name": "python",
   "nbconvert_exporter": "python",
   "pygments_lexer": "ipython2",
   "version": "2.7.11"
  }
 },
 "nbformat": 4,
 "nbformat_minor": 0
}
